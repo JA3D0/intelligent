{
 "cells": [
  {
   "cell_type": "code",
   "execution_count": 1,
   "id": "af550f30",
   "metadata": {
    "execution": {
     "iopub.execute_input": "2023-12-10T21:57:53.131216Z",
     "iopub.status.busy": "2023-12-10T21:57:53.130415Z",
     "iopub.status.idle": "2023-12-10T21:57:55.123579Z",
     "shell.execute_reply": "2023-12-10T21:57:55.122473Z"
    },
    "papermill": {
     "duration": 2.001694,
     "end_time": "2023-12-10T21:57:55.126253",
     "exception": false,
     "start_time": "2023-12-10T21:57:53.124559",
     "status": "completed"
    },
    "tags": []
   },
   "outputs": [],
   "source": [
    "#import library\n",
    "import pandas as pd\n",
    "import numpy as np\n",
    "from sklearn.model_selection import train_test_split, cross_val_score\n",
    "from sklearn.ensemble import RandomForestClassifier\n",
    "from queue import PriorityQueue\n",
    "from collections import defaultdict\n",
    "from sklearn.metrics import classification_report, accuracy_score"
   ]
  },
  {
   "cell_type": "code",
   "execution_count": 2,
   "id": "3978ce9c",
   "metadata": {
    "execution": {
     "iopub.execute_input": "2023-12-10T21:57:55.136541Z",
     "iopub.status.busy": "2023-12-10T21:57:55.134888Z",
     "iopub.status.idle": "2023-12-10T21:57:55.183404Z",
     "shell.execute_reply": "2023-12-10T21:57:55.182214Z"
    },
    "papermill": {
     "duration": 0.055915,
     "end_time": "2023-12-10T21:57:55.186098",
     "exception": false,
     "start_time": "2023-12-10T21:57:55.130183",
     "status": "completed"
    },
    "tags": []
   },
   "outputs": [],
   "source": [
    "# Data preprocessing\n",
    "# Referencing processed datasets delivered by the IoT\n",
    "data = pd.read_csv('/kaggle/input/survey-lung-cancer/survey lung cancer.csv')\n",
    "data = pd.get_dummies(data) \n",
    "\n",
    "# Update target variable column names and feature sets (use 'LUNG_CANCER_YES' and exclude 'LUNG_CANCER_NO' and 'LUNG_CANCER_YES'）\n",
    "lung = data['LUNG_CANCER_YES']\n",
    "results_remove = data.drop(['LUNG_CANCER_NO', 'LUNG_CANCER_YES'], axis=1)\n",
    "\n",
    "# Split the dataset into training and testing sets\n",
    "train_X, test_X, train_Y, test_Y = train_test_split(results_remove, lung, test_size=0.3, random_state=42)"
   ]
  },
  {
   "cell_type": "code",
   "execution_count": 3,
   "id": "2ab6f3f4",
   "metadata": {
    "execution": {
     "iopub.execute_input": "2023-12-10T21:57:55.195503Z",
     "iopub.status.busy": "2023-12-10T21:57:55.194415Z",
     "iopub.status.idle": "2023-12-10T21:57:55.200529Z",
     "shell.execute_reply": "2023-12-10T21:57:55.199489Z"
    },
    "papermill": {
     "duration": 0.012872,
     "end_time": "2023-12-10T21:57:55.202599",
     "exception": false,
     "start_time": "2023-12-10T21:57:55.189727",
     "status": "completed"
    },
    "tags": []
   },
   "outputs": [],
   "source": [
    "# Determining the optimal number of data splits using information entropy\n",
    "# The information entropy is calculated for a given set of labels.\n",
    "def Entropy(L): \n",
    "    unique, counts = np.unique(L, return_counts=True)\n",
    "    P = counts / len(L)\n",
    "    Entropy1 = -np.sum(P * np.log2(P))\n",
    "    return Entropy1"
   ]
  },
  {
   "cell_type": "code",
   "execution_count": 4,
   "id": "3ef1c0ee",
   "metadata": {
    "execution": {
     "iopub.execute_input": "2023-12-10T21:57:55.211196Z",
     "iopub.status.busy": "2023-12-10T21:57:55.210821Z",
     "iopub.status.idle": "2023-12-10T21:57:55.216576Z",
     "shell.execute_reply": "2023-12-10T21:57:55.215453Z"
    },
    "papermill": {
     "duration": 0.012897,
     "end_time": "2023-12-10T21:57:55.218988",
     "exception": false,
     "start_time": "2023-12-10T21:57:55.206091",
     "status": "completed"
    },
    "tags": []
   },
   "outputs": [],
   "source": [
    "# Create decision trees that are as clear and accurate as possible\n",
    "# Calculate the information gain gained when splitting the dataset from a parent collection to a child collection.\n",
    "def Information_Gain(set1, subsets): \n",
    "    parent1 = Entropy(set1)\n",
    "    \n",
    "    totalnum = 0\n",
    "    \n",
    "    # Loop through each subset in subsets\n",
    "    for subset in subsets:\n",
    "        length = len(subset)\n",
    "        totalnum += length\n",
    "        \n",
    "    subsets_E = 0\n",
    "    for subset in subsets:\n",
    "        weight = len(subset) / totalnum\n",
    "        subsets_E = Entropy(subset)\n",
    "        weight_Entropy = weight * subset_entropy\n",
    "        subsets_E += weight_Entropy\n",
    "    return parent1 - subsets_E"
   ]
  },
  {
   "cell_type": "code",
   "execution_count": 5,
   "id": "5d2cee49",
   "metadata": {
    "execution": {
     "iopub.execute_input": "2023-12-10T21:57:55.227829Z",
     "iopub.status.busy": "2023-12-10T21:57:55.227475Z",
     "iopub.status.idle": "2023-12-10T21:57:55.233089Z",
     "shell.execute_reply": "2023-12-10T21:57:55.231975Z"
    },
    "papermill": {
     "duration": 0.012667,
     "end_time": "2023-12-10T21:57:55.235293",
     "exception": false,
     "start_time": "2023-12-10T21:57:55.222626",
     "status": "completed"
    },
    "tags": []
   },
   "outputs": [],
   "source": [
    "# Further evaluation of individual features\n",
    "# Calculate the information gain of individual features for constructing decision trees\n",
    "def heuristic(X, Y, feature): \n",
    "    entropytotal = Entropy(Y)\n",
    "    values = X[feature].unique()\n",
    "    entropyweight = 0\n",
    "    for value in values:\n",
    "        subset = Y[X[feature] == value]\n",
    "        entropyweight += len(subset) / len(Y) * Entropy(subset)\n",
    "    gain = entropytotal - entropyweight\n",
    "    return gain"
   ]
  },
  {
   "cell_type": "code",
   "execution_count": 6,
   "id": "8a3d310f",
   "metadata": {
    "execution": {
     "iopub.execute_input": "2023-12-10T21:57:55.244201Z",
     "iopub.status.busy": "2023-12-10T21:57:55.243790Z",
     "iopub.status.idle": "2023-12-10T21:57:55.373416Z",
     "shell.execute_reply": "2023-12-10T21:57:55.372209Z"
    },
    "papermill": {
     "duration": 0.137123,
     "end_time": "2023-12-10T21:57:55.375995",
     "exception": false,
     "start_time": "2023-12-10T21:57:55.238872",
     "status": "completed"
    },
    "tags": []
   },
   "outputs": [],
   "source": [
    "# Greedy best first search heuristic method\n",
    "# Selection of the most valuable features for the prediction of the target variable\n",
    "def feature_search(X, Y, max_NUM=10):\n",
    "    select_features = []\n",
    "    unselect_features = list(X.columns)\n",
    "    # Store heuristic scores for each feature\n",
    "    hscores = {} \n",
    "\n",
    "    while unselect_features and len(select_features) < max_NUM:\n",
    "        max_gain = -np.inf\n",
    "        best_feature = None\n",
    "        for feature in unselect_features:\n",
    "            score = heuristic(X, Y, feature)\n",
    "            # Scoring of storage features\n",
    "            hscores[feature] = score \n",
    "            if score > max_gain:\n",
    "                max_gain = score\n",
    "                best_feature = feature\n",
    "                \n",
    "\n",
    "        # Adding highly rated features\n",
    "        if best_feature is not None:\n",
    "            select_features.append(best_feature)\n",
    "            unselect_features.remove(best_feature)\n",
    "        else:\n",
    "            break\n",
    "    return select_features, hscores\n",
    "\n",
    "select_features, hscores = feature_search(train_X, train_Y)"
   ]
  },
  {
   "cell_type": "code",
   "execution_count": 7,
   "id": "5a65b7f0",
   "metadata": {
    "execution": {
     "iopub.execute_input": "2023-12-10T21:57:55.384819Z",
     "iopub.status.busy": "2023-12-10T21:57:55.384422Z",
     "iopub.status.idle": "2023-12-10T21:57:55.390114Z",
     "shell.execute_reply": "2023-12-10T21:57:55.389190Z"
    },
    "papermill": {
     "duration": 0.013342,
     "end_time": "2023-12-10T21:57:55.392938",
     "exception": false,
     "start_time": "2023-12-10T21:57:55.379596",
     "status": "completed"
    },
    "tags": []
   },
   "outputs": [
    {
     "name": "stdout",
     "output_type": "stream",
     "text": [
      "\n",
      "Heuristic Scores of all features:\n",
      "Feature: AGE, Heuristic Score: 0.12428794613327071\n",
      "Feature: SMOKING, Heuristic Score: 0.0035433753074698426\n",
      "Feature: YELLOW_FINGERS, Heuristic Score: 0.025725018307391934\n",
      "Feature: ANXIETY, Heuristic Score: 0.013166615362250944\n",
      "Feature: PEER_PRESSURE, Heuristic Score: 0.018017177185530642\n",
      "Feature: CHRONIC DISEASE, Heuristic Score: 0.015498586756286237\n",
      "Feature: FATIGUE , Heuristic Score: 0.029308568277442548\n",
      "Feature: ALLERGY , Heuristic Score: 0.0909855403564831\n",
      "Feature: WHEEZING, Heuristic Score: 0.044045908235476605\n",
      "Feature: ALCOHOL CONSUMING, Heuristic Score: 0.06471857111480639\n",
      "Feature: COUGHING, Heuristic Score: 0.044088201324953946\n",
      "Feature: SHORTNESS OF BREATH, Heuristic Score: 0.010875877587066984\n",
      "Feature: SWALLOWING DIFFICULTY, Heuristic Score: 0.05721567388839843\n",
      "Feature: CHEST PAIN, Heuristic Score: 0.020827781789933053\n",
      "Feature: GENDER_F, Heuristic Score: 0.0003879059472988722\n",
      "Feature: GENDER_M, Heuristic Score: 0.0003879059472988722\n",
      "Selected Features: ['AGE', 'ALLERGY ', 'ALCOHOL CONSUMING', 'SWALLOWING DIFFICULTY', 'COUGHING', 'WHEEZING', 'FATIGUE ', 'YELLOW_FINGERS', 'CHEST PAIN', 'PEER_PRESSURE']\n"
     ]
    }
   ],
   "source": [
    "# Print each feature score and output selected features\n",
    "print(\"\\nHeuristic Scores of all features:\")\n",
    "for feature, score in hscores.items():\n",
    "    print(f\"Feature: {feature}, Heuristic Score: {score}\")\n",
    "    \n",
    "print(\"Selected Features:\", select_features)"
   ]
  },
  {
   "cell_type": "code",
   "execution_count": 8,
   "id": "601d7517",
   "metadata": {
    "execution": {
     "iopub.execute_input": "2023-12-10T21:57:55.402229Z",
     "iopub.status.busy": "2023-12-10T21:57:55.401358Z",
     "iopub.status.idle": "2023-12-10T21:57:55.409657Z",
     "shell.execute_reply": "2023-12-10T21:57:55.408879Z"
    },
    "papermill": {
     "duration": 0.015052,
     "end_time": "2023-12-10T21:57:55.411739",
     "exception": false,
     "start_time": "2023-12-10T21:57:55.396687",
     "status": "completed"
    },
    "tags": []
   },
   "outputs": [],
   "source": [
    "# Identification of target variables and selected characteristics\n",
    "select_features.append('LUNG_CANCER_YES')\n",
    "data = data[select_features]\n",
    "\n",
    "# Define target and characteristic variables\n",
    "Y = data['LUNG_CANCER_YES']   \n",
    "X = data.drop('LUNG_CANCER_YES', axis=1)   \n",
    "\n",
    "# Split the dataset into training and testing sets\n",
    "train_X, test_X, train_Y, test_Y = train_test_split(X, Y, test_size=0.3, random_state=42)"
   ]
  },
  {
   "cell_type": "code",
   "execution_count": 9,
   "id": "bd1f1ffd",
   "metadata": {
    "execution": {
     "iopub.execute_input": "2023-12-10T21:57:55.421635Z",
     "iopub.status.busy": "2023-12-10T21:57:55.420956Z",
     "iopub.status.idle": "2023-12-10T21:57:55.588891Z",
     "shell.execute_reply": "2023-12-10T21:57:55.587726Z"
    },
    "papermill": {
     "duration": 0.175485,
     "end_time": "2023-12-10T21:57:55.591253",
     "exception": false,
     "start_time": "2023-12-10T21:57:55.415768",
     "status": "completed"
    },
    "tags": []
   },
   "outputs": [],
   "source": [
    "# Train Random Forest Classifier\n",
    "RF = RandomForestClassifier(n_estimators=100, random_state=42)\n",
    "RF.fit(train_X, train_Y)\n",
    "\n",
    "# Calculate feature importance based on node impurity (Gini significance score)\n",
    "Importance = np.zeros(X.shape[1])"
   ]
  },
  {
   "cell_type": "code",
   "execution_count": 10,
   "id": "bc0c07f2",
   "metadata": {
    "execution": {
     "iopub.execute_input": "2023-12-10T21:57:55.600627Z",
     "iopub.status.busy": "2023-12-10T21:57:55.600233Z",
     "iopub.status.idle": "2023-12-10T21:57:55.653763Z",
     "shell.execute_reply": "2023-12-10T21:57:55.652262Z"
    },
    "papermill": {
     "duration": 0.061227,
     "end_time": "2023-12-10T21:57:55.656309",
     "exception": false,
     "start_time": "2023-12-10T21:57:55.595082",
     "status": "completed"
    },
    "tags": []
   },
   "outputs": [
    {
     "name": "stdout",
     "output_type": "stream",
     "text": [
      "Feature Importance:\n",
      "Feature: AGE, Importance: 0.316032201744364\n",
      "Feature: ALLERGY , Importance: 0.10632711871157229\n",
      "Feature: ALCOHOL CONSUMING, Importance: 0.09178541933725666\n",
      "Feature: SWALLOWING DIFFICULTY, Importance: 0.08657481382996672\n",
      "Feature: COUGHING, Importance: 0.06227888855763088\n",
      "Feature: WHEEZING, Importance: 0.05097122031815375\n",
      "Feature: FATIGUE , Importance: 0.08591277408417752\n",
      "Feature: YELLOW_FINGERS, Importance: 0.06931090403884421\n",
      "Feature: CHEST PAIN, Importance: 0.05736205547578245\n",
      "Feature: PEER_PRESSURE, Importance: 0.07344460390225134\n"
     ]
    }
   ],
   "source": [
    "# Predictions with the Random Forest Classifier\n",
    "# Each tree is independent of the other\n",
    "for tree in RF.estimators_: \n",
    "    important_tree = np.zeros(X.shape[1])\n",
    "    \n",
    "    # Iterate through each tree, compute significance and accumulate\n",
    "    for i in range(tree.tree_.node_count): \n",
    "        Wq = tree.tree_.weighted_n_node_samples[i]\n",
    "        Dq = tree.tree_.impurity[i]\n",
    "        \n",
    "        left = tree.tree_.children_left[i]\n",
    "        right = tree.tree_.children_right[i]\n",
    "        \n",
    "        if left >= 0:\n",
    "            W_left = tree.tree_.weighted_n_node_samples[left]\n",
    "            D_left = tree.tree_.impurity[left]\n",
    "        else:\n",
    "            W_left = 0\n",
    "            D_left = 0\n",
    "        \n",
    "        if right >= 0:\n",
    "            W_right = tree.tree_.weighted_n_node_samples[right]\n",
    "            D_right = tree.tree_.impurity[right]\n",
    "        else:\n",
    "            W_right = 0\n",
    "            D_right = 0\n",
    "        \n",
    "        result2 = Wq * Dq - W_left * D_left - W_right * D_right\n",
    "        \n",
    "        index = tree.tree_.feature[i]\n",
    "        if index != -2:   \n",
    "            important_tree[index] += result2\n",
    "     \n",
    "    sum_tree = np.sum(important_tree)\n",
    "    if sum_tree != 0:\n",
    "        important_tree /= sum_tree\n",
    "    else:\n",
    "        important_tree /= 1\n",
    "    \n",
    "    Importance += important_tree\n",
    "\n",
    "# Normalize feature importances across all trees\n",
    "sum_importance = np.sum(Importance)\n",
    "if sum_importance != 0:\n",
    "    Importance /= sum_importance\n",
    "else:\n",
    "    Importance /= 1\n",
    "\n",
    "# The output of feature importances\n",
    "print(\"Feature Importance:\")\n",
    "for feature, impo in zip(X.columns, Importance):\n",
    "    print(f\"Feature: {feature}, Importance: {impo}\")"
   ]
  },
  {
   "cell_type": "code",
   "execution_count": 11,
   "id": "835215aa",
   "metadata": {
    "execution": {
     "iopub.execute_input": "2023-12-10T21:57:55.665840Z",
     "iopub.status.busy": "2023-12-10T21:57:55.664867Z",
     "iopub.status.idle": "2023-12-10T21:57:55.687161Z",
     "shell.execute_reply": "2023-12-10T21:57:55.686364Z"
    },
    "papermill": {
     "duration": 0.029471,
     "end_time": "2023-12-10T21:57:55.689624",
     "exception": false,
     "start_time": "2023-12-10T21:57:55.660153",
     "status": "completed"
    },
    "tags": []
   },
   "outputs": [
    {
     "name": "stdout",
     "output_type": "stream",
     "text": [
      "Accuracy: 0.956989247311828\n",
      "Classification Report:\n",
      "              precision    recall  f1-score   support\n",
      "\n",
      "       False       0.71      0.71      0.71         7\n",
      "        True       0.98      0.98      0.98        86\n",
      "\n",
      "    accuracy                           0.96        93\n",
      "   macro avg       0.85      0.85      0.85        93\n",
      "weighted avg       0.96      0.96      0.96        93\n",
      "\n"
     ]
    }
   ],
   "source": [
    "# Prediction using models\n",
    "predict1 = RF.predict(test_X)\n",
    "ACC = accuracy_score(test_Y, predict1)\n",
    "print(f\"Accuracy: {ACC}\")\n",
    "\n",
    "# Print performance results\n",
    "PRE = classification_report(test_Y, predict1, zero_division=0)\n",
    "print(\"Classification Report:\")\n",
    "print(PRE)"
   ]
  }
 ],
 "metadata": {
  "kaggle": {
   "accelerator": "none",
   "dataSources": [
    {
     "datasetId": 4096427,
     "sourceId": 7105595,
     "sourceType": "datasetVersion"
    }
   ],
   "isGpuEnabled": false,
   "isInternetEnabled": false,
   "language": "python",
   "sourceType": "notebook"
  },
  "kernelspec": {
   "display_name": "Python 3",
   "language": "python",
   "name": "python3"
  },
  "language_info": {
   "codemirror_mode": {
    "name": "ipython",
    "version": 3
   },
   "file_extension": ".py",
   "mimetype": "text/x-python",
   "name": "python",
   "nbconvert_exporter": "python",
   "pygments_lexer": "ipython3",
   "version": "3.10.12"
  },
  "papermill": {
   "default_parameters": {},
   "duration": 6.182786,
   "end_time": "2023-12-10T21:57:56.313056",
   "environment_variables": {},
   "exception": null,
   "input_path": "__notebook__.ipynb",
   "output_path": "__notebook__.ipynb",
   "parameters": {},
   "start_time": "2023-12-10T21:57:50.130270",
   "version": "2.4.0"
  }
 },
 "nbformat": 4,
 "nbformat_minor": 5
}
